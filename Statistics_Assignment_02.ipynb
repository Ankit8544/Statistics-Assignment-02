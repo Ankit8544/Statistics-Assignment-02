{
 "cells": [
  {
   "cell_type": "markdown",
   "metadata": {},
   "source": [
    "Q.No-01    What are the three measures of central tendency?"
   ]
  },
  {
   "cell_type": "markdown",
   "metadata": {},
   "source": [
    "Ans :-"
   ]
  },
  {
   "cell_type": "markdown",
   "metadata": {},
   "source": [
    "    The three measures of central tendency are:"
   ]
  },
  {
   "cell_type": "markdown",
   "metadata": {},
   "source": [
    "1. **`Mean :-`** The mean is the most common measure of central tendency and is often referred to as the average. It is calculated by adding up all the values in a data set and then dividing the sum by the number of data points. The mean is sensitive to extreme values and can be influenced by outliers."
   ]
  },
  {
   "cell_type": "code",
   "execution_count": 1,
   "metadata": {},
   "outputs": [
    {
     "name": "stdout",
     "output_type": "stream",
     "text": [
      "Mean of {5, 2, 7, 3, 5, 8, 4, 1, 6, 5} is  4.6\n"
     ]
    }
   ],
   "source": [
    "import numpy as np\n",
    "\n",
    "Mean_Data = [5, 2, 7, 3, 5, 8, 4, 1, 6, 5]\n",
    "Mean_01 = np.mean(Mean_Data)\n",
    "print(\"Mean of {5, 2, 7, 3, 5, 8, 4, 1, 6, 5} is \",Mean_01)"
   ]
  },
  {
   "cell_type": "markdown",
   "metadata": {},
   "source": [
    "2. **`Median :-`** The median is the middle value in a data set when the values are arranged in ascending or descending order. If the data set has an odd number of values, the median is the middle value itself. If the data set has an even number of values, the median is the average of the two middle values. The median is less affected by extreme values and is a good measure to use when dealing with skewed distributions."
   ]
  },
  {
   "cell_type": "code",
   "execution_count": 2,
   "metadata": {},
   "outputs": [
    {
     "name": "stdout",
     "output_type": "stream",
     "text": [
      "Median of {5, 2, 7, 3, 5, 8, 4, 1, 6, 5} is  5.0\n"
     ]
    }
   ],
   "source": [
    "import numpy as np \n",
    "\n",
    "Median_Data = [5, 2, 7, 3, 5, 8, 4, 1, 6, 5]\n",
    "Median_01 = np.median(Median_Data)\n",
    "print(\"Median of {5, 2, 7, 3, 5, 8, 4, 1, 6, 5} is \",Median_01)"
   ]
  },
  {
   "cell_type": "markdown",
   "metadata": {},
   "source": [
    "3. **`Mode :-`** The mode is the value that occurs most frequently in a data set. Unlike the mean and median, the mode does not require the data to be numeric or ordered. There can be multiple modes (bimodal, trimodal, etc.) if several values have the same highest frequency. The mode is useful when dealing with categorical data or when you want to identify the most common value in a dataset."
   ]
  },
  {
   "cell_type": "code",
   "execution_count": 3,
   "metadata": {},
   "outputs": [
    {
     "name": "stdout",
     "output_type": "stream",
     "text": [
      "Mode of  [5, 2, 7, 3, 5, 8, 4, 1, 6, 5]  is  5\n"
     ]
    }
   ],
   "source": [
    "import numpy as np \n",
    "\n",
    "Mode_Data = [5, 2, 7, 3, 5, 8, 4, 1, 6, 5]\n",
    "Unique_elements, Counts = np.unique(Mode_Data, return_counts=True)\n",
    "Mode_index = np.argmax(Counts)\n",
    "Mode_01 = Unique_elements[Counts == Counts[Mode_index]]\n",
    "print(\"Mode of \",Mode_Data,\" is \",Mode_01[0])"
   ]
  },
  {
   "cell_type": "markdown",
   "metadata": {},
   "source": [
    "--------------------------------------------------------------------------------------------------------------------"
   ]
  },
  {
   "cell_type": "markdown",
   "metadata": {},
   "source": [
    "Q.No-02    What is the difference between the mean, median, and mode? How are they used to measure the\n",
    "central tendency of a dataset?"
   ]
  },
  {
   "cell_type": "markdown",
   "metadata": {},
   "source": [
    "Ans :-"
   ]
  },
  {
   "cell_type": "markdown",
   "metadata": {},
   "source": [
    "    Explanation of the differences between the mean, median, and mode:"
   ]
  },
  {
   "cell_type": "markdown",
   "metadata": {},
   "source": [
    "1. **`Mean :-`**\n",
    "   - The mean is also known as the average.\n",
    "   - It is calculated by adding up all the values in a dataset and then dividing the sum by the number of values in the dataset.\n",
    "   - The mean is sensitive to extreme values, also known as outliers, as they can significantly affect its value.\n",
    "   - It is commonly used when the data is normally distributed or follows a symmetric pattern."
   ]
  },
  {
   "cell_type": "markdown",
   "metadata": {},
   "source": [
    "2. **`Median :-`**\n",
    "   - The median is the middle value in a dataset when the values are arranged in ascending or descending order.\n",
    "   - If there is an even number of values, the median is the average of the two middle values.\n",
    "   - Unlike the mean, the median is not affected by extreme values, making it a better choice for datasets with outliers.\n",
    "   - It is particularly useful when the data is skewed or contains outliers."
   ]
  },
  {
   "cell_type": "markdown",
   "metadata": {},
   "source": [
    "3. **`Mode :-`**\n",
    "   - The mode is the value that appears most frequently in a dataset.\n",
    "   - A dataset can have one mode (unimodal), two modes (bimodal), or more (multimodal).\n",
    "   - Unlike the mean and median, the mode is not influenced by the actual values in the dataset; it only depends on their frequency of occurrence.\n",
    "   - The mode is commonly used for categorical data or discrete data with distinct categories."
   ]
  },
  {
   "cell_type": "markdown",
   "metadata": {},
   "source": [
    "--------------------------------------------------------------------------------------------------------------------"
   ]
  },
  {
   "cell_type": "markdown",
   "metadata": {},
   "source": [
    "Q.No-03    Measure the three measures of central tendency for the given height data:\n",
    "\n",
    "    [178,177,176,177,178.2,178,175,179,180,175,178.9,176.2,177,172.5,178,176.5]"
   ]
  },
  {
   "cell_type": "markdown",
   "metadata": {},
   "source": [
    "Ans :-"
   ]
  },
  {
   "cell_type": "markdown",
   "metadata": {},
   "source": [
    "The three measures of central tendency (`mean`, `median`, and `mode`) for the given height data -"
   ]
  },
  {
   "cell_type": "code",
   "execution_count": 4,
   "metadata": {},
   "outputs": [],
   "source": [
    "import numpy as np\n",
    "\n",
    "Height = [178,177,176,177,178.2,178,175,179,180,175,178.9,176.2,177,172.5,178,176.5]"
   ]
  },
  {
   "cell_type": "markdown",
   "metadata": {},
   "source": [
    "**`Mean :`**"
   ]
  },
  {
   "cell_type": "code",
   "execution_count": 5,
   "metadata": {},
   "outputs": [
    {
     "name": "stdout",
     "output_type": "stream",
     "text": [
      "Mean(Avg) Height of the Given Data :-  177.01875\n"
     ]
    }
   ],
   "source": [
    "Mean_02 = np.mean(Height)\n",
    "print(\"Mean(Avg) Height of the Given Data :- \",Mean_02)"
   ]
  },
  {
   "cell_type": "markdown",
   "metadata": {},
   "source": [
    "**`Median :`**"
   ]
  },
  {
   "cell_type": "code",
   "execution_count": 6,
   "metadata": {},
   "outputs": [
    {
     "name": "stdout",
     "output_type": "stream",
     "text": [
      "Median Height of the Given Data :- 177.0\n"
     ]
    }
   ],
   "source": [
    "Median_02 = np.median(Height)\n",
    "print(\"Median Height of the Given Data :-\",Median_02)"
   ]
  },
  {
   "cell_type": "markdown",
   "metadata": {},
   "source": [
    "**`Mode :`**"
   ]
  },
  {
   "cell_type": "code",
   "execution_count": 7,
   "metadata": {},
   "outputs": [
    {
     "name": "stdout",
     "output_type": "stream",
     "text": [
      "Median Height of the Given Data :-  172.5\n"
     ]
    }
   ],
   "source": [
    "Unique_Height, Height_Counts = np.unique(Height, return_counts=True)\n",
    "Height_index = np.argmax(Counts)\n",
    "Mode_02 = Unique_Height[Height_Counts == Height_Counts[Height_index]]\n",
    "print(\"Median Height of the Given Data :- \",Mode_02[0])"
   ]
  },
  {
   "cell_type": "markdown",
   "metadata": {},
   "source": [
    "--------------------------------------------------------------------------------------------------------------------"
   ]
  },
  {
   "cell_type": "markdown",
   "metadata": {},
   "source": [
    "Q.No-04    Find the standard deviation for the given data:\n",
    "\n",
    "    [178,177,176,177,178.2,178,175,179,180,175,178.9,176.2,177,172.5,178,176.5]"
   ]
  },
  {
   "cell_type": "markdown",
   "metadata": {},
   "source": [
    "Ans :-"
   ]
  },
  {
   "cell_type": "code",
   "execution_count": 8,
   "metadata": {},
   "outputs": [
    {
     "name": "stdout",
     "output_type": "stream",
     "text": [
      "Standard Deviation of the Given Data :-  1.7885814036548633\n"
     ]
    }
   ],
   "source": [
    "import numpy as np\n",
    "\n",
    "Given_Data = [178,177,176,177,178.2,178,175,179,180,175,178.9,176.2,177,172.5,178,176.5]\n",
    "STD = np.std(Given_Data)\n",
    "print(\"Standard Deviation of the Given Data :- \",STD)"
   ]
  },
  {
   "cell_type": "markdown",
   "metadata": {},
   "source": [
    "--------------------------------------------------------------------------------------------------------------------"
   ]
  },
  {
   "cell_type": "markdown",
   "metadata": {},
   "source": [
    "Q.no-05    How are measures of dispersion such as range, variance, and standard deviation used to describe\n",
    "the spread of a dataset? Provide an example."
   ]
  },
  {
   "cell_type": "markdown",
   "metadata": {},
   "source": [
    "Ans :-"
   ]
  },
  {
   "cell_type": "markdown",
   "metadata": {},
   "source": [
    "Measures of dispersion, such as range, variance, and standard deviation, are used to quantify how spread out or dispersed the values in a dataset are. They provide insights into the variability of the data points around the central tendency (mean, median, etc.)."
   ]
  },
  {
   "cell_type": "code",
   "execution_count": 9,
   "metadata": {},
   "outputs": [],
   "source": [
    "import numpy as np\n",
    "\n",
    "# Example dataset of exam scores\n",
    "Exam_Scores = [85, 78, 92, 88, 95, 76, 89, 82, 91, 94]"
   ]
  },
  {
   "cell_type": "markdown",
   "metadata": {},
   "source": [
    "Let's discuss each measure and provide an example :"
   ]
  },
  {
   "cell_type": "markdown",
   "metadata": {},
   "source": [
    "1. **Range**: The range is the simplest measure of dispersion. It's the difference between the maximum and minimum values in a dataset. While it's easy to compute, it doesn't capture the full distribution of the data."
   ]
  },
  {
   "cell_type": "code",
   "execution_count": 10,
   "metadata": {},
   "outputs": [
    {
     "name": "stdout",
     "output_type": "stream",
     "text": [
      "Exam Scores :- [85, 78, 92, 88, 95, 76, 89, 82, 91, 94]\n",
      "Maximum Score Obtained by the Student :- 95\n",
      "Manimum Score Obtained by the Student :- 76\n",
      "Range :- 19\n"
     ]
    }
   ],
   "source": [
    "print(\"Exam Scores :-\", Exam_Scores)\n",
    "print(\"Maximum Score Obtained by the Student :-\", np.max(Exam_Scores))\n",
    "print(\"Manimum Score Obtained by the Student :-\", np.min(Exam_Scores))\n",
    "data_range = np.max(Exam_Scores) - np.min(Exam_Scores)\n",
    "print(\"Range :-\", data_range)"
   ]
  },
  {
   "cell_type": "markdown",
   "metadata": {},
   "source": [
    "2. **Variance**: The variance measures how much the data points deviate from the mean. It's the average of the squared differences between each data point and the mean. A higher variance indicates greater spread."
   ]
  },
  {
   "cell_type": "code",
   "execution_count": 11,
   "metadata": {},
   "outputs": [
    {
     "name": "stdout",
     "output_type": "stream",
     "text": [
      "Exam Scores :- [85, 78, 92, 88, 95, 76, 89, 82, 91, 94]\n",
      "Mean(Avg) Value of Score Obtained by the Student :- 87.0\n",
      "Variance: 39.0\n"
     ]
    }
   ],
   "source": [
    "print(\"Exam Scores :-\", Exam_Scores)\n",
    "Mean_Score = np.mean(Exam_Scores)\n",
    "print(\"Mean(Avg) Value of Score Obtained by the Student :-\", Mean_Score)\n",
    "variance = np.mean((Exam_Scores - Mean_Score)**2)\n",
    "print(\"Variance:\", variance)"
   ]
  },
  {
   "cell_type": "markdown",
   "metadata": {},
   "source": [
    "3. **Standard Deviation**: The standard deviation is the square root of the variance. It provides a measure of the typical distance between each data point and the mean. It's often preferred over variance because it's in the same units as the original data."
   ]
  },
  {
   "cell_type": "code",
   "execution_count": 12,
   "metadata": {},
   "outputs": [
    {
     "name": "stdout",
     "output_type": "stream",
     "text": [
      "Exam Scores: [85, 78, 92, 88, 95, 76, 89, 82, 91, 94]\n",
      "Variance: 39.0\n",
      "Standard Deviation: 6.244997998398398\n"
     ]
    }
   ],
   "source": [
    "print(\"Exam Scores:\", Exam_Scores)\n",
    "print(\"Variance:\", variance)\n",
    "std_deviation = np.sqrt(variance)\n",
    "print(\"Standard Deviation:\", std_deviation)"
   ]
  },
  {
   "cell_type": "markdown",
   "metadata": {},
   "source": [
    "--------------------------------------------------------------------------------------------------------------------"
   ]
  },
  {
   "cell_type": "markdown",
   "metadata": {},
   "source": [
    "Q.No-06    What is a Venn diagram?"
   ]
  },
  {
   "cell_type": "markdown",
   "metadata": {},
   "source": [
    "Ans :-"
   ]
  },
  {
   "cell_type": "markdown",
   "metadata": {},
   "source": [
    "**`A Venn diagram`** is a graphical representation used to visually show the relationships between different sets of items or concepts. It is named after the mathematician **John Venn**, who introduced the concept in the late 19th century. Venn diagrams use overlapping circles or other shapes to depict the elements of different sets and their intersections, highlighting the similarities and differences between the sets."
   ]
  },
  {
   "cell_type": "markdown",
   "metadata": {},
   "source": [
    "In a basic two-circle Venn diagram, each circle represents a set, and the overlapping region between the circles represents the elements that are common to both sets. The non-overlapping portions of the circles represent the unique elements of each set. The arrangement and overlap of the circles can be adjusted to represent various types of relationships, such as subsets, intersections, unions, complements, and more."
   ]
  },
  {
   "cell_type": "markdown",
   "metadata": {},
   "source": [
    "`Venn diagrams` are commonly used in various fields, including mathematics, logic, statistics, and data analysis, to help visualize and understand the relationships and interactions between different groups of items or concepts. They are a valuable tool for organizing information and making comparisons between different sets of data."
   ]
  },
  {
   "cell_type": "code",
   "execution_count": 13,
   "metadata": {},
   "outputs": [
    {
     "data": {
      "image/png": "[encoded data removed]",
      "text/plain": [
       "<Figure size 640x480 with 1 Axes>"
      ]
     },
     "metadata": {},
     "output_type": "display_data"
    }
   ],
   "source": [
    "import matplotlib.pyplot as plt\n",
    "from matplotlib_venn import venn2\n",
    "\n",
    "set1 = set([2, 3, 4, 5, 6, 7])\n",
    "set2 = set([0, 2, 6, 8, 10])\n",
    "\n",
    "Set_1_and_Set_2 = set1.intersection(set2)\n",
    "Set_1_only = set1.difference(set2)\n",
    "Set_2_olny = set2.difference(set1)\n",
    "\n",
    "venn = venn2([set1, set2], ('Set 1', 'Set 2'))\n",
    "\n",
    "venn.get_label_by_id('10').set_text(Set_1_only)\n",
    "venn.get_label_by_id('01').set_text(Set_2_olny)\n",
    "venn.get_label_by_id('11').set_text(Set_1_and_Set_2)\n",
    "\n",
    "plt.legend(labels=('Set 1', 'Set 2'))\n",
    "plt.legend(loc='upper left',labels=(set1, set2))\n",
    "plt.title(\"Venn Diagram Example\")\n",
    "plt.show()"
   ]
  },
  {
   "cell_type": "markdown",
   "metadata": {},
   "source": [
    "--------------------------------------------------------------------------------------------------------------------"
   ]
  },
  {
   "cell_type": "markdown",
   "metadata": {},
   "source": [
    " For the two given sets A = (2,3,4,5,6,7) & B = (0,2,6,8,10). Find:\n",
    "\n",
    "  (i) A `Intersection` B \n",
    "\n",
    "  (ii) A `Union` B"
   ]
  },
  {
   "cell_type": "markdown",
   "metadata": {},
   "source": [
    "Ans :-"
   ]
  },
  {
   "cell_type": "code",
   "execution_count": 14,
   "metadata": {},
   "outputs": [],
   "source": [
    "A = {2, 3, 4, 5, 6, 7}\n",
    "B = {0, 2, 6, 8, 10}"
   ]
  },
  {
   "cell_type": "code",
   "execution_count": 15,
   "metadata": {},
   "outputs": [
    {
     "name": "stdout",
     "output_type": "stream",
     "text": [
      "Intersection: {2, 6}\n"
     ]
    }
   ],
   "source": [
    "Intersection = A.intersection(B)\n",
    "print(\"Intersection:\", Intersection)"
   ]
  },
  {
   "cell_type": "code",
   "execution_count": 16,
   "metadata": {},
   "outputs": [
    {
     "name": "stdout",
     "output_type": "stream",
     "text": [
      "Union: {0, 2, 3, 4, 5, 6, 7, 8, 10}\n"
     ]
    }
   ],
   "source": [
    "Union = A.union(B)\n",
    "print(\"Union:\", Union)"
   ]
  },
  {
   "cell_type": "markdown",
   "metadata": {},
   "source": [
    "--------------------------------------------------------------------------------------------------------------------"
   ]
  },
  {
   "cell_type": "markdown",
   "metadata": {},
   "source": [
    "Q.No.08    What do you understand about skewness in data?"
   ]
  },
  {
   "cell_type": "markdown",
   "metadata": {},
   "source": [
    "Ans :-"
   ]
  },
  {
   "cell_type": "markdown",
   "metadata": {},
   "source": [
    "Skewness is a statistical measure that describes the asymmetry of the probability distribution of a dataset. It provides information about the shape of the distribution curve and the concentration of data points around the mean. In essence, skewness helps us understand how \"lopsided\" or \"skewed\" a distribution is."
   ]
  },
  {
   "cell_type": "code",
   "execution_count": 17,
   "metadata": {},
   "outputs": [],
   "source": [
    "import numpy as np\n",
    "import matplotlib.pyplot as plt\n",
    "import seaborn as sns"
   ]
  },
  {
   "cell_type": "markdown",
   "metadata": {},
   "source": [
    "    There are three main types of skewness:"
   ]
  },
  {
   "cell_type": "markdown",
   "metadata": {},
   "source": [
    "1. **`Positive Skewness (Right Skewness) :-`** A distribution is positively skewed when the tail on the right side (higher values) is longer or more spread out than the tail on the left side (lower values). This means that there are more data points with lower values and fewer data points with higher values."
   ]
  },
  {
   "cell_type": "code",
   "execution_count": 18,
   "metadata": {},
   "outputs": [
    {
     "data": {
      "image/png": "[encoded data removed]",
      "text/plain": [
       "<Figure size 1200x400 with 1 Axes>"
      ]
     },
     "metadata": {},
     "output_type": "display_data"
    }
   ],
   "source": [
    "# Generate positively skewed data\n",
    "pos_skewed_data = np.random.exponential(scale=2, size=1000)\n",
    "\n",
    "plt.figure(figsize=(12, 4))\n",
    "plt.subplot(131)\n",
    "sns.histplot(pos_skewed_data, kde=True)\n",
    "plt.title(\"Positively Skewed Data\")\n",
    "\n",
    "plt.show()"
   ]
  },
  {
   "cell_type": "markdown",
   "metadata": {},
   "source": [
    "2. **`Negative Skewness (Left Skewness) :-`** A distribution is negatively skewed when the tail on the left side (lower values) is longer or more spread out than the tail on the right side (higher values). This indicates that there are more data points with higher values and fewer data points with lower values."
   ]
  },
  {
   "cell_type": "code",
   "execution_count": 19,
   "metadata": {},
   "outputs": [
    {
     "data": {
      "image/png": "[encoded data removed]",
      "text/plain": [
       "<Figure size 1200x400 with 1 Axes>"
      ]
     },
     "metadata": {},
     "output_type": "display_data"
    }
   ],
   "source": [
    "# Generate negatively skewed data\n",
    "neg_skewed_data = -np.random.exponential(scale=2, size=1000)\n",
    "\n",
    "plt.figure(figsize=(12, 4))\n",
    "plt.subplot(132)\n",
    "sns.histplot(neg_skewed_data, kde=True)\n",
    "plt.title(\"Negatively Skewed Data\")\n",
    "\n",
    "plt.show()"
   ]
  },
  {
   "cell_type": "markdown",
   "metadata": {},
   "source": [
    "3. **`Zero Skewness (Symmetric Distribution) :-`** A distribution is considered symmetric if the tails on both sides are approximately equal in length and shape, resulting in a balanced curve around the mean."
   ]
  },
  {
   "cell_type": "code",
   "execution_count": 20,
   "metadata": {},
   "outputs": [
    {
     "data": {
      "image/png": "[encoded data removed]",
      "text/plain": [
       "<Figure size 1200x400 with 1 Axes>"
      ]
     },
     "metadata": {},
     "output_type": "display_data"
    }
   ],
   "source": [
    "# Generate symmetric data (approximately normal)\n",
    "symmetric_data = np.random.normal(loc=0, scale=1, size=1000)\n",
    "\n",
    "plt.figure(figsize=(12, 4))\n",
    "plt.subplot(133)\n",
    "sns.histplot(symmetric_data, kde=True)\n",
    "plt.title(\"Symmetric (Normal) Data\")\n",
    "\n",
    "plt.show()"
   ]
  },
  {
   "cell_type": "markdown",
   "metadata": {},
   "source": [
    "Skewness is quantified using a skewness coefficient or index, with common formulas being Pearson's first skewness coefficient (moment skewness) and the Bowley skewness. \n",
    "\n",
    "    These coefficients provide a numerical value that indicates the degree and direction of skewness:\n",
    "\n",
    "- Positive skewness values indicate right skewness.\n",
    "- Negative skewness values indicate left skewness.\n",
    "- A skewness value close to zero suggests a relatively symmetric distribution."
   ]
  },
  {
   "cell_type": "markdown",
   "metadata": {},
   "source": [
    "Understanding skewness is important because it can affect various statistical analyses and modeling techniques. For example, skewed data might require transformations to approximate a normal distribution for certain statistical tests or to make linear regression assumptions more valid.\n",
    "\n",
    "In summary, skewness in data helps us assess the shape and asymmetry of a distribution, providing insights into the underlying patterns and characteristics of the dataset."
   ]
  },
  {
   "cell_type": "markdown",
   "metadata": {},
   "source": [
    "--------------------------------------------------------------------------------------------------------------------"
   ]
  },
  {
   "cell_type": "markdown",
   "metadata": {},
   "source": [
    "Q.No-09    If a data is right skewed then what will be the position of median with respect to mean?"
   ]
  },
  {
   "cell_type": "markdown",
   "metadata": {},
   "source": [
    "Ans :-"
   ]
  },
  {
   "cell_type": "markdown",
   "metadata": {},
   "source": [
    "In a right-skewed (positively skewed) distribution, the tail of the distribution is extended to the right, meaning that there are a few extremely large values that pull the mean in that direction. The median, on the other hand, represents the middle value of the data when arranged in ascending order."
   ]
  },
  {
   "cell_type": "markdown",
   "metadata": {},
   "source": [
    "Due to the presence of those few extremely large values in the right tail, the mean will be greater than the median in a right-skewed distribution. Visually, you can think of it as the mean being \"pulled\" towards the tail by those large values, causing it to be located to the right of the median."
   ]
  },
  {
   "cell_type": "markdown",
   "metadata": {},
   "source": [
    "In a **right-skewed distribution** :-\n",
    "\n",
    "    Mean > Median"
   ]
  },
  {
   "cell_type": "code",
   "execution_count": 21,
   "metadata": {},
   "outputs": [
    {
     "name": "stdout",
     "output_type": "stream",
     "text": [
      "Mean: 1.9942091292311028\n",
      "Median: 1.313504212300652\n",
      "Mean > Median\n"
     ]
    }
   ],
   "source": [
    "import numpy as np\n",
    "\n",
    "data = np.random.exponential(scale=2, size=1000)\n",
    "\n",
    "mean = np.mean(data)\n",
    "median = np.median(data)\n",
    "\n",
    "print(\"Mean:\", mean)\n",
    "print(\"Median:\", median)\n",
    "\n",
    "if mean > median:\n",
    "    print(\"Mean > Median\")\n",
    "else:\n",
    "    print(\"Mean < Median\")"
   ]
  },
  {
   "cell_type": "markdown",
   "metadata": {},
   "source": [
    "--------------------------------------------------------------------------------------------------------------------"
   ]
  },
  {
   "cell_type": "markdown",
   "metadata": {},
   "source": [
    "Q.No-10    Explain the difference between covariance and correlation. How are these measures used in\n",
    "statistical analysis?"
   ]
  },
  {
   "cell_type": "markdown",
   "metadata": {},
   "source": [
    "Ans :-"
   ]
  },
  {
   "cell_type": "markdown",
   "metadata": {},
   "source": [
    "Covariance and correlation are both measures that describe the relationship between two variables in statistics, particularly in the context of multivariate data analysis. While they are related concepts, they have distinct interpretations and properties."
   ]
  },
  {
   "cell_type": "markdown",
   "metadata": {},
   "source": [
    "**`Covariance :-`**"
   ]
  },
  {
   "cell_type": "markdown",
   "metadata": {},
   "source": [
    "Covariance measures how two variables change together. It quantifies the extent to which changes in one variable correspond to changes in another variable. In other words, it indicates whether the variables tend to increase or decrease together, or if they have opposite trends."
   ]
  },
  {
   "cell_type": "markdown",
   "metadata": {},
   "source": [
    "The formula for covariance between two variables X and Y is:\n",
    "\n",
    "$$\n",
    "Cov(X, Y) = \\frac{\\sum_{i=1}^n (X_i - \\bar{X})(Y_i - \\bar{Y})}{n-1}\n",
    "$$"
   ]
  },
  {
   "cell_type": "markdown",
   "metadata": {},
   "source": [
    "Where:\n",
    "    \n",
    "\n",
    "- $X_i$ and $Y_i$ are individual data points of the variables X and Y.\n",
    "- $\\bar{X}$ and $\\bar{Y}$ are the means (averages) of the variables X and Y.\n",
    "- $n$ is the number of data points.\n"
   ]
  },
  {
   "cell_type": "markdown",
   "metadata": {},
   "source": [
    "Covariance can take positive, negative, or zero values :-\n",
    "\n",
    "- Positive covariance ($Cov(X, Y) > 0$) : Indicates that as one variable increases, the other tends to increase as well, and vice versa.\n",
    "- Negative covariance ($Cov(X, Y) < 0$) : Indicates that as one variable increases, the other tends to decrease, and vice versa.\n",
    "- Zero covariance ($Cov(X, Y) = 0$) : Indicates no linear relationship between the variables. However, it's important to note that zero covariance does not necessarily mean there is no relationship at all; non-linear relationships might still exist.\n"
   ]
  },
  {
   "cell_type": "code",
   "execution_count": 22,
   "metadata": {},
   "outputs": [
    {
     "name": "stdout",
     "output_type": "stream",
     "text": [
      "Covariance: -2.5\n"
     ]
    }
   ],
   "source": [
    "import numpy as np\n",
    "\n",
    "x = np.array([1, 2, 3, 4, 5])\n",
    "y = np.array([5, 4, 3, 2, 1])\n",
    "\n",
    "# Calculate covariance\n",
    "covariance = np.cov(x, y)[0, 1]\n",
    "print(\"Covariance:\", covariance)"
   ]
  },
  {
   "cell_type": "markdown",
   "metadata": {},
   "source": [
    "**`Correlation :-`**"
   ]
  },
  {
   "cell_type": "markdown",
   "metadata": {},
   "source": [
    "Correlation is a standardized measure that quantifies the strength and direction of the linear relationship between two variables. It scales the covariance by the product of the standard deviations of the two variables."
   ]
  },
  {
   "cell_type": "markdown",
   "metadata": {},
   "source": [
    " The formula for correlation between two variables X and Y is:\n",
    "\n",
    "$$\n",
    "Corr(X, Y) = \\frac{Cov(X, Y)}{SD(X) \\cdot SD(Y)}\n",
    "$$"
   ]
  },
  {
   "cell_type": "markdown",
   "metadata": {},
   "source": [
    "Where:\n",
    "\n",
    "- ${Cov}(X, Y)$ is the covariance between X and Y.\n",
    "- ${SD}(X)$ and ${SD}(Y)$ are the standard deviations of X and Y."
   ]
  },
  {
   "cell_type": "markdown",
   "metadata": {},
   "source": [
    "Correlation values range between -1 and 1 :-\n",
    "\n",
    "- Positive correlation (${Corr}(X, Y) > 0$) : Indicates a positive linear relationship, where as one variable increases, the other tends to increase as well.\n",
    "- Negative correlation (${Corr}(X, Y) < 0$) : Indicates a negative linear relationship, where as one variable increases, the other tends to decrease.\n",
    "- Zero correlation (${Corr}(X, Y) = 0$) : Indicates no linear relationship between the variables."
   ]
  },
  {
   "cell_type": "code",
   "execution_count": 23,
   "metadata": {},
   "outputs": [
    {
     "name": "stdout",
     "output_type": "stream",
     "text": [
      "Correlation: -0.9999999999999999\n"
     ]
    }
   ],
   "source": [
    "import numpy as np\n",
    "\n",
    "x = np.array([1, 2, 3, 4, 5])\n",
    "y = np.array([5, 4, 3, 2, 1])\n",
    "\n",
    "# Calculate correlation\n",
    "correlation = np.corrcoef(x, y)[0, 1]\n",
    "print(\"Correlation:\", correlation)"
   ]
  },
  {
   "cell_type": "markdown",
   "metadata": {},
   "source": [
    "**`How they are used in statistical analysis :-`**\n",
    "\n",
    "1. **Covariance**: Covariance is used to understand the direction and strength of the relationship between two variables. Positive covariance suggests that the variables tend to increase together, while negative covariance indicates that one variable tends to decrease as the other increases. However, the magnitude of covariance is not easily interpretable and can vary widely depending on the scale of the variables.\n",
    "\n",
    "2. **Correlation**: Correlation is a standardized measure, making it easier to interpret and compare across different datasets. It provides information not only about the direction and strength of the relationship but also about the linearity of the relationship. Correlation is widely used to analyze data in various fields, such as finance, economics, social sciences, and natural sciences. It helps identify patterns, trends, and dependencies between variables."
   ]
  },
  {
   "cell_type": "markdown",
   "metadata": {},
   "source": [
    "In summary, while both covariance and correlation measure the relationship between two variables, covariance is not standardized and can be difficult to interpret on its own. Correlation, on the other hand, is standardized and provides a clearer understanding of the strength and direction of the linear relationship between variables."
   ]
  },
  {
   "cell_type": "markdown",
   "metadata": {},
   "source": [
    "--------------------------------------------------------------------------------------------------------------------"
   ]
  },
  {
   "cell_type": "markdown",
   "metadata": {},
   "source": [
    "Q.No-11    What is the formula for calculating the sample mean? Provide an example calculation for a\n",
    "dataset."
   ]
  },
  {
   "cell_type": "markdown",
   "metadata": {},
   "source": [
    "Ans :-"
   ]
  },
  {
   "cell_type": "markdown",
   "metadata": {},
   "source": [
    "\n",
    "The formula for calculating the sample mean (also known as the `Arithmetic mean`) of a dataset is :-\n",
    "\n",
    "$$\n",
    "\\bar{X} = \\frac {1}{n} \\sum \\limits_{i=1}^n a_i\n",
    "$$\n",
    "\n",
    "Where :\n",
    "\n",
    "$\\bar{X}$ = Sample mean/Arithmetic mean\n",
    "\n",
    "$n$\t= number of values\n",
    "\n",
    "$a_i$ = data set values\n"
   ]
  },
  {
   "cell_type": "code",
   "execution_count": 24,
   "metadata": {},
   "outputs": [],
   "source": [
    "Data = [12, 15, 18, 20, 24, 30]"
   ]
  },
  {
   "cell_type": "markdown",
   "metadata": {},
   "source": [
    "    By Using Math Formula -"
   ]
  },
  {
   "cell_type": "code",
   "execution_count": 25,
   "metadata": {},
   "outputs": [
    {
     "name": "stdout",
     "output_type": "stream",
     "text": [
      "Sample Mean :- 19.833333333333332\n"
     ]
    }
   ],
   "source": [
    "sum_values = sum(Data)\n",
    "\n",
    "num_values = len(Data)\n",
    "\n",
    "sample_mean = sum_values / num_values\n",
    "\n",
    "print(\"Sample Mean :-\", sample_mean)"
   ]
  },
  {
   "cell_type": "markdown",
   "metadata": {},
   "source": [
    "    By Using 'numpy' module -"
   ]
  },
  {
   "cell_type": "code",
   "execution_count": 26,
   "metadata": {},
   "outputs": [
    {
     "name": "stdout",
     "output_type": "stream",
     "text": [
      "Arithmetic Mean :- 19.833333333333332\n"
     ]
    }
   ],
   "source": [
    "import numpy as np\n",
    "\n",
    "Data = [12, 15, 18, 20, 24, 30]\n",
    "\n",
    "arithmetic_mean = np.mean(Data)\n",
    "print(\"Arithmetic Mean :-\", arithmetic_mean)"
   ]
  },
  {
   "cell_type": "markdown",
   "metadata": {},
   "source": [
    "--------------------------------------------------------------------------------------------------------------------"
   ]
  },
  {
   "cell_type": "markdown",
   "metadata": {},
   "source": [
    "Q.No-12    For a normal distribution data what is the relationship between its measure of central tendency?"
   ]
  },
  {
   "cell_type": "markdown",
   "metadata": {},
   "source": [
    "Ans :-"
   ]
  },
  {
   "cell_type": "markdown",
   "metadata": {},
   "source": [
    "In a **`Normal distribution`**, also known as a **`Gaussian distribution`**, there is a specific relationship between its measures of central tendency, which are the mean, median, and mode. These measures are often used to describe the \"center\" or \"typical\" value of a dataset."
   ]
  },
  {
   "cell_type": "markdown",
   "metadata": {},
   "source": [
    "1. Mean (μ): The mean of a normal distribution is its most common measure of central tendency. It is the arithmetic average of all the data points and is denoted by the symbol μ (mu). For a normal distribution, the mean, median, and mode are all equal and located at the center of the distribution."
   ]
  },
  {
   "cell_type": "markdown",
   "metadata": {},
   "source": [
    "2. Median: The median is the middle value of a dataset when it is arranged in ascending or descending order. In a perfectly symmetric normal distribution, the median is equal to the mean and is also located at the center of the distribution."
   ]
  },
  {
   "cell_type": "markdown",
   "metadata": {},
   "source": [
    "3. Mode: The mode is the value that appears most frequently in a dataset. In a normal distribution, every value occurs with the same frequency, so all values have the same mode. This means that a normal distribution is unimodal, and the mode is also equal to the mean and median."
   ]
  },
  {
   "cell_type": "markdown",
   "metadata": {},
   "source": [
    "    For a normal distribution :\n",
    "\n",
    "$$Mean (μ) = Median = Mode$$"
   ]
  },
  {
   "cell_type": "code",
   "execution_count": 27,
   "metadata": {},
   "outputs": [
    {
     "name": "stdout",
     "output_type": "stream",
     "text": [
      "Mean: 22\n",
      "Median: 22\n",
      "Mode: 22\n"
     ]
    }
   ],
   "source": [
    "import numpy as np\n",
    "from scipy import stats\n",
    "\n",
    "# Example dataset following a normal distribution\n",
    "data = np.array([10, 12, 15, 16, 18, 20, 22, 22, 24, 25, 26, 26, 28, 30, 32])\n",
    "\n",
    "# Calculate mean, median, and mode\n",
    "mean = np.mean(data)\n",
    "median = np.median(data)\n",
    "mode = stats.mode(data)[0]\n",
    "\n",
    "print(\"Mean:\", round(mean))\n",
    "print(\"Median:\", round(median))\n",
    "print(\"Mode:\", mode)\n"
   ]
  },
  {
   "cell_type": "markdown",
   "metadata": {},
   "source": [
    "This relationship holds true for a perfectly symmetric normal distribution. However, it's important to note that in real-world data, distributions might deviate from perfect symmetry, and the exact relationship between the mean, median, and mode could vary slightly. Nevertheless, in practice, the measures of central tendency are often very close to each other in a normal distribution."
   ]
  },
  {
   "cell_type": "markdown",
   "metadata": {},
   "source": [
    "--------------------------------------------------------------------------------------------------------------------"
   ]
  },
  {
   "cell_type": "markdown",
   "metadata": {},
   "source": [
    "Q.No-13    How is covariance different from correlation?"
   ]
  },
  {
   "cell_type": "markdown",
   "metadata": {},
   "source": [
    "Ans :-"
   ]
  },
  {
   "cell_type": "markdown",
   "metadata": {},
   "source": [
    "Covariance and correlation are both measures that describe the relationship between two variables in statistics. They are used to understand how changes in one variable are associated with changes in another variable. While they are related concepts, they have some key differences :"
   ]
  },
  {
   "cell_type": "code",
   "execution_count": 29,
   "metadata": {},
   "outputs": [],
   "source": [
    "import numpy as np\n",
    "\n",
    "x = np.array([1, 2, 3, 4, 5])\n",
    "y = np.array([2, 3, 4, 5, 6])"
   ]
  },
  {
   "cell_type": "markdown",
   "metadata": {},
   "source": [
    "1. **`Covariance :-`**"
   ]
  },
  {
   "cell_type": "markdown",
   "metadata": {},
   "source": [
    "- Covariance measures the degree to which two variables change together. If the values of both variables tend to increase or decrease together, the covariance is positive. If one variable tends to increase as the other decreases, the covariance is negative. If there's no clear pattern, the covariance is close to zero.\n",
    "\n",
    "- It's important to note that the magnitude of the covariance is not easily interpretable on its own. A positive covariance could mean a strong positive relationship or a strong negative relationship, depending on the scales of the variables.\n",
    "\n",
    "- The formula for the sample covariance between two variables X and Y, with n data points, is \n",
    "  \n",
    "$$\n",
    "Cov(X, Y) = \\frac{\\sum_{i=1}^n (X_i - \\bar{X})(Y_i - \\bar{Y})}{n-1}\n",
    "$$"
   ]
  },
  {
   "cell_type": "code",
   "execution_count": 30,
   "metadata": {},
   "outputs": [
    {
     "name": "stdout",
     "output_type": "stream",
     "text": [
      "Covariance: 2.5\n"
     ]
    }
   ],
   "source": [
    "covariance = np.cov(x, y)[0, 1]\n",
    "print(\"Covariance:\", covariance)"
   ]
  },
  {
   "cell_type": "markdown",
   "metadata": {},
   "source": [
    "2. **`Correlation :-`**"
   ]
  },
  {
   "cell_type": "markdown",
   "metadata": {},
   "source": [
    "- Correlation standardizes the covariance by dividing it by the product of the standard deviations of the two variables. This yields a value between -1 and 1, which represents the strength and direction of the linear relationship between the variables.\n",
    "\n",
    "- A positive correlation (close to +1) indicates a strong positive linear relationship, meaning that as one variable increases, the other tends to increase as well. A negative correlation (close to -1) indicates a strong negative linear relationship, where one variable tends to decrease as the other increases. A correlation close to 0 indicates a weak or no linear relationship.\n",
    "\n",
    "- The Pearson correlation coefficient is the most common type of correlation and is calculated using the following formula -\n",
    "   \n",
    "$$\n",
    "Corr(X, Y) = \\frac{Cov(X, Y)}{SD(X) \\cdot SD(Y)}\n",
    "$$"
   ]
  },
  {
   "cell_type": "code",
   "execution_count": 31,
   "metadata": {},
   "outputs": [
    {
     "name": "stdout",
     "output_type": "stream",
     "text": [
      "Correlation: 0.9999999999999999\n"
     ]
    }
   ],
   "source": [
    "correlation = np.corrcoef(x, y)[0, 1]\n",
    "print(\"Correlation:\", correlation)"
   ]
  },
  {
   "cell_type": "markdown",
   "metadata": {},
   "source": [
    "In summary, covariance provides insight into the direction of the relationship between two variables (positive or negative), while correlation additionally quantifies the strength and standardizes the relationship to a range between -1 and 1, making it easier to interpret and compare relationships between variables with different scales."
   ]
  },
  {
   "cell_type": "markdown",
   "metadata": {},
   "source": [
    "--------------------------------------------------------------------------------------------------------------------"
   ]
  },
  {
   "cell_type": "markdown",
   "metadata": {},
   "source": [
    "Q.No-14    How do outliers affect measures of central tendency and dispersion? Provide an example."
   ]
  },
  {
   "cell_type": "markdown",
   "metadata": {},
   "source": [
    "Ans :-"
   ]
  },
  {
   "cell_type": "markdown",
   "metadata": {},
   "source": [
    "Outliers can have a significant impact on measures of central tendency and dispersion in statistical analysis. Measures of central tendency describe the typical or average value of a dataset, while measures of dispersion quantify the spread or variability of the data points."
   ]
  },
  {
   "cell_type": "markdown",
   "metadata": {},
   "source": [
    "1. **Measures of Central Tendency (e.g., Mean, Median, Mode):**\n",
    "   - **Mean (Average):** Outliers can pull the mean in their direction. If there is a high outlier in a dataset, the mean will be higher than it would be without the outlier. Similarly, a low outlier will lower the mean.\n",
    "   - **Median (Middle Value):** Outliers have less influence on the median. The median is less affected by extreme values, so it might be a better representation of the \"typical\" value in the presence of outliers.\n",
    "   - **Mode (Most Frequent Value):** Outliers generally have little effect on the mode, which represents the most frequently occurring value(s). However, if an outlier is far from the rest of the data, it might create a bimodal or multimodal distribution."
   ]
  },
  {
   "cell_type": "markdown",
   "metadata": {},
   "source": [
    "2. **Measures of Dispersion (e.g., Range, Variance, Standard Deviation):**\n",
    "   - **Range (Difference between Max and Min):** Outliers can greatly affect the range, causing it to be much larger than it would be without the outlier(s).\n",
    "   - **Variance and Standard Deviation:** Outliers can lead to larger values of variance and standard deviation, indicating increased spread or variability in the data. An outlier that is far from the rest of the data points can significantly inflate these measures.\n",
    "   - **Interquartile Range (IQR):** The IQR is less affected by outliers as it focuses on the middle 50% of the data. It can be a more robust measure of dispersion in the presence of outliers."
   ]
  },
  {
   "cell_type": "code",
   "execution_count": 7,
   "metadata": {},
   "outputs": [
    {
     "name": "stdout",
     "output_type": "stream",
     "text": [
      "Calculate measures of central tendency and measures of dispersion with Outlier\n",
      "\n",
      "Measures of Central Tendency without Outlier :-\n",
      "Mean - 77.0\n",
      "Median - 32.5\n",
      "Mode - 10\n",
      "Measures of Dispersion with Outlier :-\n",
      "Range - 490\n",
      "Variance - 20031.0\n",
      "Standard Deviation - 141.53091535067523\n",
      "\n",
      "\n",
      "Outliers :- 500\n",
      "\n",
      "\n",
      "Calculate measures of central tendency and measures of dispersion without Outlier\n",
      "\n",
      "Measures of Central Tendency without Outlier :-\n",
      "Mean - 30.0\n",
      "Median - 30.0\n",
      "Mode - 10\n",
      "Measures of Dispersion without Outlier :-\n",
      "Range - 40\n",
      "Variance - 166.66666666666666\n",
      "Standard Deviation - 12.909944487358056\n"
     ]
    }
   ],
   "source": [
    "import numpy as np\n",
    "data_with_outliers = np.array([10, 15, 20, 25, 30, 35, 40, 45, 50, 500])\n",
    "\n",
    "# Calculate measures of central tendency and measures of dispersion with Outlier\n",
    "\n",
    "print(\"Calculate measures of central tendency and measures of dispersion with Outlier\")\n",
    "print(\"\\nMeasures of Central Tendency without Outlier :-\")\n",
    "mean_with_outliers = np.mean(data_with_outliers)\n",
    "print(\"Mean -\", mean_with_outliers)\n",
    "median_with_outliers = np.median(data_with_outliers)\n",
    "print(\"Median -\", median_with_outliers)\n",
    "mode_with_outliers = np.argmax(np.bincount(data_with_outliers))\n",
    "print(\"Mode -\", mode_with_outliers)\n",
    "\n",
    "print(\"Measures of Dispersion with Outlier :-\")\n",
    "range_with_outliers = np.max(data_with_outliers) - np.min(data_with_outliers)\n",
    "print(\"Range -\", range_with_outliers)\n",
    "variance_with_outliers = np.var(data_with_outliers)\n",
    "print(\"Variance -\", variance_with_outliers)\n",
    "std_dev_with_outliers = np.std(data_with_outliers)\n",
    "print(\"Standard Deviation -\", std_dev_with_outliers)\n",
    "\n",
    "\n",
    "# Find outliers\n",
    "q1 = np.percentile(data_with_outliers, 25)\n",
    "q3 = np.percentile(data_with_outliers, 75)\n",
    "iqr = q3 - q1\n",
    "lower_bound = q1 - 1.5 * iqr\n",
    "upper_bound = q3 + 1.5 * iqr\n",
    "outliers = data_with_outliers[(data_with_outliers < lower_bound) | (data_with_outliers > upper_bound)]\n",
    "print(\"\\n\\nOutliers :-\", outliers[0])\n",
    "\n",
    "\n",
    "# Remove the outlier from the data\n",
    "data_without_outlier = data_with_outliers[(data_with_outliers >= lower_bound) & (data_with_outliers <= upper_bound)]\n",
    "\n",
    "\n",
    "# Calculate measures of central tendency and measures of dispersion without outlier\n",
    "\n",
    "print(\"\\n\\nCalculate measures of central tendency and measures of dispersion without Outlier\")\n",
    "print(\"\\nMeasures of Central Tendency without Outlier :-\")\n",
    "mean_without_outlier = np.mean(data_without_outlier)\n",
    "print(\"Mean -\", mean_without_outlier)\n",
    "median_without_outlier = np.median(data_without_outlier)\n",
    "print(\"Median -\", median_without_outlier)\n",
    "mode_without_outlier = np.argmax(np.bincount(data_without_outlier))\n",
    "print(\"Mode -\", mode_without_outlier)\n",
    "\n",
    "print(\"Measures of Dispersion without Outlier :-\")\n",
    "range_without_outlier = np.max(data_without_outlier) - np.min(data_without_outlier)\n",
    "print(\"Range -\", range_without_outlier)\n",
    "variance_without_outlier = np.var(data_without_outlier)\n",
    "print(\"Variance -\", variance_without_outlier)\n",
    "std_dev_without_outlier = np.std(data_without_outlier)\n",
    "print(\"Standard Deviation -\", std_dev_without_outlier)"
   ]
  },
  {
   "cell_type": "markdown",
   "metadata": {},
   "source": [
    "                                        END"
   ]
  }
 ],
 "metadata": {
  "kernelspec": {
   "display_name": "Python 3",
   "language": "python",
   "name": "python3"
  },
  "language_info": {
   "codemirror_mode": {
    "name": "ipython",
    "version": 3
   },
   "file_extension": ".py",
   "mimetype": "text/x-python",
   "name": "python",
   "nbconvert_exporter": "python",
   "pygments_lexer": "ipython3",
   "version": "3.9.13"
  },
  "orig_nbformat": 4
 },
 "nbformat": 4,
 "nbformat_minor": 2
}
